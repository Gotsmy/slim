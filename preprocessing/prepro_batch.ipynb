{
 "cells": [
  {
   "cell_type": "code",
   "execution_count": 1,
   "id": "002698e5-d192-4c2a-98a5-c556c6960de5",
   "metadata": {},
   "outputs": [],
   "source": [
    "import os\n",
    "import numpy as np\n",
    "import pickle"
   ]
  },
  {
   "cell_type": "markdown",
   "id": "e6fc1c7d-9efc-4488-83bc-ea7e7aa68d7c",
   "metadata": {},
   "source": [
    "# Batch"
   ]
  },
  {
   "cell_type": "code",
   "execution_count": 2,
   "id": "10d9baf0-a94e-44c3-920b-f222e0fb5a95",
   "metadata": {},
   "outputs": [],
   "source": [
    "version = '220829_dFBA_batch_v06'\n",
    "loc     = f'/mnt/itching_scratch/mgotsmy/220829_slim_paper_v2/results/{version}'\n",
    "q_pDNA_min = .1/100\n",
    "special_interest_q_pDNA_max_levels = np.array([1,1.5,2,4])*q_pDNA_min\n",
    "all_q_pDNA_max_levels = np.linspace(.1/100,.5/100,41)\n",
    "# check if special_interest_q_pDNA_max_levels in all_q_pDNA_max_levels\n",
    "for q in special_interest_q_pDNA_max_levels:\n",
    "    if np.any(np.isclose(q,all_q_pDNA_max_levels)):\n",
    "        pass\n",
    "    else:\n",
    "        print('q_pDNA_max = {:6.4f} mmol/(g h) from special interest not in all.'.format(q))"
   ]
  },
  {
   "cell_type": "code",
   "execution_count": 3,
   "id": "cd74c877-c615-4b73-9373-f038d044a05f",
   "metadata": {},
   "outputs": [
    {
     "name": "stdout",
     "output_type": "stream",
     "text": [
      "Reading files.\n",
      "All files found.\n",
      "No extra files found.\n"
     ]
    }
   ],
   "source": [
    "# lookup stored files\n",
    "filenames                  = sorted(os.listdir(loc))\n",
    "q_pDNA_max_levels_set      = all_q_pDNA_max_levels\n",
    "files_extra                = []\n",
    "all_filenames              = []\n",
    "special_interest_filenames = []\n",
    "\n",
    "# check if there are extra files or files missing\n",
    "for filename in filenames:\n",
    "    q_pDNA_max = float(filename.strip('.pkl').split('_')[-1])\n",
    "    isclose = np.isclose(q_pDNA_max,q_pDNA_max_levels_set)\n",
    "    if np.any(isclose):\n",
    "        q_pDNA_max_levels_set = q_pDNA_max_levels_set[np.invert(isclose)]\n",
    "        all_filenames.append(filename)\n",
    "        if np.any(np.isclose(q_pDNA_max,special_interest_q_pDNA_max_levels)):\n",
    "            special_interest_filenames.append(filename)\n",
    "    else:\n",
    "        files_extra.append([filename,q_pDNA_max])\n",
    "\n",
    "# print results\n",
    "print('Reading files.')\n",
    "if len(q_pDNA_max_levels_set):\n",
    "    print('Files not found:')\n",
    "    for q_pDNA_max in sorted(q_pDNA_max_levels_set):\n",
    "        print('{:30} {:6.4f}'.format('',q_pDNA_max))\n",
    "else:\n",
    "    print('All files found.')\n",
    "if len(files_extra):\n",
    "    print('Extra files found:')\n",
    "    for filename, q_pDNA_max in files_extra:\n",
    "        print('{:30} {:6.4f}'.format(filename,q_pDNA_max))\n",
    "else:\n",
    "    print('No extra files found.')"
   ]
  },
  {
   "cell_type": "code",
   "execution_count": 4,
   "id": "27a60bc7-da58-4965-8435-1b95c9096426",
   "metadata": {},
   "outputs": [],
   "source": [
    "def batch_results_sorter(results):\n",
    "    '''\n",
    "    Sorts results dic according to numeric value in key.\n",
    "    '''\n",
    "    results_sorted = {}\n",
    "    for S_0 in sorted(results):\n",
    "        results_sorted[S_0] = results[S_0]\n",
    "    return results_sorted\n",
    "\n",
    "def batch_unpack_values(sol):\n",
    "    '''\n",
    "    Unpacks concentrations in the sol.y array.\n",
    "    '''\n",
    "    t = sol.t\n",
    "    X = sol.y.T[:,0]\n",
    "    S = sol.y.T[:,1]\n",
    "    P = sol.y.T[:,2]\n",
    "    G = sol.y.T[:,3]\n",
    "    return t,X,S,P,G\n",
    "\n",
    "def batch_calculate_terminal_idx(sol):\n",
    "    '''\n",
    "    Calculates terminal_idx and start of starvation time.\n",
    "    '''\n",
    "    \n",
    "    t,X,S,P,G = batch_unpack_values(sol)\n",
    "    \n",
    "    # calculate average termination time. either when infeasible or when G < 0.\n",
    "    sorted_t_events_ATPM = sorted(sol.t_events[0])\n",
    "    sorted_t_events_G    = sorted(sol.t_events[1])\n",
    "    if len(sorted_t_events_ATPM) > 0:\n",
    "        terminal_idx = np.argmin(\n",
    "            np.abs(sol.t-\n",
    "                   np.mean(\n",
    "                   np.array(sorted_t_events_ATPM)[\n",
    "                   np.where(\n",
    "                   np.isclose(sorted_t_events_ATPM[0],sorted_t_events_ATPM,atol=.1))[0]])))\n",
    "    elif len(sorted_t_events_G) > 0:\n",
    "        terminal_idx = np.argmin(np.abs(sol.t-np.min(sorted_t_events_G)))\n",
    "    else:\n",
    "        terminal_idx = -1\n",
    "\n",
    "    # find t_starvation_start\n",
    "    s_is_0 = np.isclose(S,0,atol=1e-4)\n",
    "    if np.any(s_is_0):\n",
    "        idx_star_start = np.where(s_is_0)[0][0]          # index of t_starvation_start\n",
    "        t_star_start   = t[idx_star_start]               # value of t_starvation_start\n",
    "    else:\n",
    "        t_star_start = np.nan\n",
    "    \n",
    "    return terminal_idx, t_star_start\n",
    "\n",
    "def batch_calculate_endpoints(results):\n",
    "    '''\n",
    "    Return concentrations of molecules of interest at the end of a process.\n",
    "    '''\n",
    "    \n",
    "    endpoints = []\n",
    "    for S_0 in sorted(results):\n",
    "        sol = results[S_0]\n",
    "        t,X,S,P,G = batch_unpack_values(sol)\n",
    "        terminal_idx, t_star_start = batch_calculate_terminal_idx(sol)\n",
    "        endpoint = [\n",
    "            S_0,\n",
    "            t[terminal_idx],\n",
    "            X[terminal_idx],\n",
    "            S[terminal_idx],\n",
    "            P[terminal_idx],\n",
    "            G[terminal_idx],\n",
    "            t_star_start\n",
    "        ]\n",
    "        endpoints.append(endpoint)\n",
    "    return np.array(endpoints)\n",
    "\n",
    "def batch_trim_processes(results):\n",
    "    '''\n",
    "    Trim processes of special interest to the calculated process ends.\n",
    "    '''\n",
    "    \n",
    "    trimmed_results = {}\n",
    "    for S_0 in sorted(results):\n",
    "        sol = results[S_0]\n",
    "        t,X,S,P,G = batch_unpack_values(sol)\n",
    "        terminal_idx, t_star_start = batch_calculate_terminal_idx(sol)\n",
    "        curves = [\n",
    "            S_0,\n",
    "            t[:terminal_idx],\n",
    "            X[:terminal_idx],\n",
    "            S[:terminal_idx],\n",
    "            P[:terminal_idx],\n",
    "            G[:terminal_idx],\n",
    "            t_star_start\n",
    "        ]\n",
    "        trimmed_results[S_0] = curves\n",
    "    return trimmed_results"
   ]
  },
  {
   "cell_type": "code",
   "execution_count": 5,
   "id": "c553511f-1950-4b1a-b44e-be8378210b63",
   "metadata": {},
   "outputs": [
    {
     "name": "stdout",
     "output_type": "stream",
     "text": [
      "Processing files.\n",
      "Done.\n",
      "Length processed        =  41\n",
      "Length special interest =   4\n"
     ]
    }
   ],
   "source": [
    "print('Processing files.')\n",
    "processed = {}\n",
    "special_interest = {}\n",
    "for filename in all_filenames:\n",
    "    q_pDNA_max = float(filename.strip('.pkl').split('_')[-1])\n",
    "    with open(f'{loc}/{filename}','rb') as file:\n",
    "        results = batch_results_sorter(pickle.load(file))\n",
    "    processed[q_pDNA_max] = batch_calculate_endpoints(results)\n",
    "    if filename in special_interest_filenames:\n",
    "        special_interest[q_pDNA_max] = batch_trim_processes(results)\n",
    "    # break\n",
    "print('Done.')\n",
    "print('Length processed        = {:3.0f}'.format(len(processed)))\n",
    "print('Length special interest = {:3.0f}'.format(len(special_interest)))"
   ]
  },
  {
   "cell_type": "code",
   "execution_count": 6,
   "id": "f4e4da6c-813c-4fd1-8505-bdeffd07e0f6",
   "metadata": {},
   "outputs": [
    {
     "name": "stdout",
     "output_type": "stream",
     "text": [
      "Saved processed file.\n"
     ]
    }
   ],
   "source": [
    "write_loc = f'{version}.pkl'\n",
    "with open(write_loc,'wb') as file:\n",
    "    pickle.dump([processed,special_interest],file)\n",
    "print('Saved processed file.')"
   ]
  }
 ],
 "metadata": {
  "kernelspec": {
   "display_name": "2206test3.10",
   "language": "python",
   "name": "2206test3.10"
  },
  "language_info": {
   "codemirror_mode": {
    "name": "ipython",
    "version": 3
   },
   "file_extension": ".py",
   "mimetype": "text/x-python",
   "name": "python",
   "nbconvert_exporter": "python",
   "pygments_lexer": "ipython3",
   "version": "3.10.4"
  },
  "toc-autonumbering": true
 },
 "nbformat": 4,
 "nbformat_minor": 5
}
