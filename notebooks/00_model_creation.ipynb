{
 "cells": [
  {
   "cell_type": "code",
   "execution_count": 1,
   "metadata": {},
   "outputs": [],
   "source": [
    "import cobra\n",
    "import snek\n",
    "import pandas as pd\n",
    "import numpy as np\n",
    "import matplotlib.pyplot as plt\n",
    "import straindesign as sd"
   ]
  },
  {
   "cell_type": "markdown",
   "metadata": {},
   "source": [
    "# Build Model"
   ]
  },
  {
   "cell_type": "markdown",
   "metadata": {},
   "source": [
    "## Include pDNA synthesis reaction"
   ]
  },
  {
   "cell_type": "code",
   "execution_count": 2,
   "metadata": {},
   "outputs": [
    {
     "data": {
      "text/html": [
       "\n",
       "        <table>\n",
       "            <tr>\n",
       "                <td><strong>Name</strong></td>\n",
       "                <td>iML1515</td>\n",
       "            </tr><tr>\n",
       "                <td><strong>Memory address</strong></td>\n",
       "                <td>0x07f3a76ff5000</td>\n",
       "            </tr><tr>\n",
       "                <td><strong>Number of metabolites</strong></td>\n",
       "                <td>1877</td>\n",
       "            </tr><tr>\n",
       "                <td><strong>Number of reactions</strong></td>\n",
       "                <td>2712</td>\n",
       "            </tr><tr>\n",
       "                <td><strong>Number of groups</strong></td>\n",
       "                <td>0</td>\n",
       "            </tr><tr>\n",
       "                <td><strong>Objective expression</strong></td>\n",
       "                <td>1.0*BIOMASS_Ec_iML1515_core_75p37M - 1.0*BIOMASS_Ec_iML1515_core_75p37M_reverse_35685</td>\n",
       "            </tr><tr>\n",
       "                <td><strong>Compartments</strong></td>\n",
       "                <td>cytosol, extracellular space, periplasm</td>\n",
       "            </tr>\n",
       "          </table>"
      ],
      "text/plain": [
       "<Model iML1515 at 0x7f3a76ff5000>"
      ]
     },
     "execution_count": 2,
     "metadata": {},
     "output_type": "execute_result"
    }
   ],
   "source": [
    "iML1515 = cobra.io.read_sbml_model('../models/iML1515.xml')\n",
    "iML1515"
   ]
  },
  {
   "cell_type": "code",
   "execution_count": 3,
   "metadata": {},
   "outputs": [],
   "source": [
    "with iML1515 as tmp:\n",
    "    # create the pDNA synthesis reaction\n",
    "    pDNA_synthesis = cobra.Reaction('pDNA_synthesis')\n",
    "    pDNA_synthesis.name = \"Synthesis of Plasmid DNA\"\n",
    "    pDNA_synthesis.subsystem = 'Plasmid Production'\n",
    "    pDNA_synthesis.lower_bound = 0\n",
    "    pDNA_synthesis.upper_bound = 1000\n",
    "    tmp.add_reaction(pDNA_synthesis)\n",
    "    model1 = tmp.copy()"
   ]
  },
  {
   "cell_type": "code",
   "execution_count": 4,
   "metadata": {},
   "outputs": [
    {
     "data": {
      "text/html": [
       "\n",
       "        <table>\n",
       "            <tr>\n",
       "                <td><strong>Name</strong></td>\n",
       "                <td>iML1515</td>\n",
       "            </tr><tr>\n",
       "                <td><strong>Memory address</strong></td>\n",
       "                <td>0x07f3a74c19540</td>\n",
       "            </tr><tr>\n",
       "                <td><strong>Number of metabolites</strong></td>\n",
       "                <td>1877</td>\n",
       "            </tr><tr>\n",
       "                <td><strong>Number of reactions</strong></td>\n",
       "                <td>2713</td>\n",
       "            </tr><tr>\n",
       "                <td><strong>Number of groups</strong></td>\n",
       "                <td>0</td>\n",
       "            </tr><tr>\n",
       "                <td><strong>Objective expression</strong></td>\n",
       "                <td>1.0*BIOMASS_Ec_iML1515_core_75p37M - 1.0*BIOMASS_Ec_iML1515_core_75p37M_reverse_35685</td>\n",
       "            </tr><tr>\n",
       "                <td><strong>Compartments</strong></td>\n",
       "                <td>cytosol, extracellular space, periplasm</td>\n",
       "            </tr>\n",
       "          </table>"
      ],
      "text/plain": [
       "<Model iML1515 at 0x7f3a74c19540>"
      ]
     },
     "execution_count": 4,
     "metadata": {},
     "output_type": "execute_result"
    }
   ],
   "source": [
    "model1"
   ]
  },
  {
   "cell_type": "markdown",
   "metadata": {},
   "source": [
    "## Include pDNA metabolite"
   ]
  },
  {
   "cell_type": "code",
   "execution_count": 5,
   "metadata": {},
   "outputs": [
    {
     "name": "stdout",
     "output_type": "stream",
     "text": [
      "Sequence          : ATCGATCG\n",
      "pDNA Length       : 10 base pairs\n",
      "Nr of dATP + dTTP : 8 nucleotides\n",
      "Nr of dCTP + dGTP : 8 nucleotides\n"
     ]
    }
   ],
   "source": [
    "pDNA_length   = 10 # base pairs\n",
    "pDNA_sequence = 'ATCG'*round(pDNA_length/4)\n",
    "\n",
    "AT_count = 0\n",
    "CG_count = 0\n",
    "for base in ['A','T','C','G']:\n",
    "    nr = pDNA_sequence.count(base)\n",
    "    if base in 'AT':\n",
    "        AT_count += nr*2 # times 2 for the reverse strand\n",
    "    elif base in 'CG':\n",
    "        CG_count += nr*2 # times 2 for the reverse strand\n",
    "    else:\n",
    "        'Unknown Base'\n",
    "        \n",
    "print('Sequence          :',pDNA_sequence)\n",
    "print('pDNA Length       :',pDNA_length,'base pairs')\n",
    "print('Nr of dATP + dTTP :',AT_count,'nucleotides')\n",
    "print('Nr of dCTP + dGTP :',CG_count,'nucleotides')"
   ]
  },
  {
   "cell_type": "code",
   "execution_count": 6,
   "metadata": {},
   "outputs": [],
   "source": [
    "with model1 as tmp:\n",
    "    # create plasmid metabolite\n",
    "    pDNA_c = cobra.Metabolite('pDNA_c')\n",
    "    pDNA_c.formula = snek.elements.get_pDNA_formula(pDNA_sequence)\n",
    "    pDNA_c.name = 'Synthetic Plasmid'\n",
    "    pDNA_c.compartment = 'c'\n",
    "    tmp.add_metabolites([pDNA_c])\n",
    "    model2 = tmp.copy()"
   ]
  },
  {
   "cell_type": "code",
   "execution_count": 7,
   "metadata": {},
   "outputs": [
    {
     "data": {
      "text/html": [
       "\n",
       "        <table>\n",
       "            <tr>\n",
       "                <td><strong>Name</strong></td>\n",
       "                <td>iML1515</td>\n",
       "            </tr><tr>\n",
       "                <td><strong>Memory address</strong></td>\n",
       "                <td>0x07f3a74b30be0</td>\n",
       "            </tr><tr>\n",
       "                <td><strong>Number of metabolites</strong></td>\n",
       "                <td>1878</td>\n",
       "            </tr><tr>\n",
       "                <td><strong>Number of reactions</strong></td>\n",
       "                <td>2713</td>\n",
       "            </tr><tr>\n",
       "                <td><strong>Number of groups</strong></td>\n",
       "                <td>0</td>\n",
       "            </tr><tr>\n",
       "                <td><strong>Objective expression</strong></td>\n",
       "                <td>1.0*BIOMASS_Ec_iML1515_core_75p37M - 1.0*BIOMASS_Ec_iML1515_core_75p37M_reverse_35685</td>\n",
       "            </tr><tr>\n",
       "                <td><strong>Compartments</strong></td>\n",
       "                <td>cytosol, extracellular space, periplasm</td>\n",
       "            </tr>\n",
       "          </table>"
      ],
      "text/plain": [
       "<Model iML1515 at 0x7f3a74b30be0>"
      ]
     },
     "execution_count": 7,
     "metadata": {},
     "output_type": "execute_result"
    }
   ],
   "source": [
    "model2"
   ]
  },
  {
   "cell_type": "markdown",
   "metadata": {},
   "source": [
    "## Set Stoichiometry"
   ]
  },
  {
   "cell_type": "code",
   "execution_count": 8,
   "metadata": {},
   "outputs": [],
   "source": [
    "with model2 as tmp:\n",
    "    stoichiometry = {'datp_c':-AT_count/2,'dttp_c':-AT_count/2,'dctp_c':-CG_count/2,'dgtp_c':-CG_count/2}\n",
    "    # 1.36 ATP per dNTP polymerization [1].\n",
    "    # [1] Cunningham, D. S., Koepsel, R. R., Ataai, M. M., & Domach, M. M. (2009). \n",
    "    # Factors affecting plasmid production in Escherichia coli from a resource \n",
    "    # allocation standpoint. Microbial Cell Factories, 8(1), 1-17.\n",
    "    nr_polymerization_reactions = AT_count + CG_count\n",
    "    nr_ATP = nr_polymerization_reactions * 1.36\n",
    "    stoichiometry['atp_c'] = - nr_ATP\n",
    "    stoichiometry['adp_c'] =   nr_ATP\n",
    "    stoichiometry['h_c']   =   nr_ATP - nr_polymerization_reactions\n",
    "    stoichiometry['pi_c']  =   nr_ATP\n",
    "    stoichiometry['ppi_c'] =   nr_polymerization_reactions\n",
    "    stoichiometry['h2o_c'] = - nr_ATP\n",
    "    stoichiometry['pDNA_c']=   1\n",
    "    tmp.reactions.pDNA_synthesis.add_metabolites(stoichiometry)\n",
    "    model3 = tmp.copy()\n",
    "    \n",
    "    # check for mass balance\n",
    "    balance = model3.reactions.pDNA_synthesis.check_mass_balance()\n",
    "    for element in balance:\n",
    "        assert np.isclose(balance[element],0,atol=model2.tolerance,rtol=0), f'Not Mass Balanced {blance[element]}'"
   ]
  },
  {
   "cell_type": "code",
   "execution_count": 9,
   "metadata": {},
   "outputs": [
    {
     "data": {
      "text/html": [
       "\n",
       "        <table>\n",
       "            <tr>\n",
       "                <td><strong>Reaction identifier</strong></td><td>pDNA_synthesis</td>\n",
       "            </tr><tr>\n",
       "                <td><strong>Name</strong></td><td>Synthesis of Plasmid DNA</td>\n",
       "            </tr><tr>\n",
       "                <td><strong>Memory address</strong></td>\n",
       "                <td>0x7f3a2eb41ff0</td>\n",
       "            </tr><tr>\n",
       "                <td><strong>Stoichiometry</strong></td>\n",
       "                <td>\n",
       "                    <p style='text-align:right'>21.76 atp_c + 4.0 datp_c + 4.0 dctp_c + 4.0 dgtp_c + 4.0 dttp_c + 21.76 h2o_c --> 21.76 adp_c + 5.760000000000002 h_c + pDNA_c + 21.76 pi_c + 16 ppi_c</p>\n",
       "                    <p style='text-align:right'>21.76 ATP C10H12N5O13P3 + 4.0 DATP C10H12N5O12P3 + 4.0 DCTP C9H12N3O13P3 + 4.0 DGTP C10H12N5O13P3 + 4.0 DTTP C10H13N2O14P3 + 21.76 H2O H2O --> 21.76 ADP C10H12N5O10P2 + 5.760000000000002 H+ +...</p>\n",
       "                </td>\n",
       "            </tr><tr>\n",
       "                <td><strong>GPR</strong></td><td></td>\n",
       "            </tr><tr>\n",
       "                <td><strong>Lower bound</strong></td><td>0</td>\n",
       "            </tr><tr>\n",
       "                <td><strong>Upper bound</strong></td><td>1000</td>\n",
       "            </tr>\n",
       "        </table>\n",
       "        "
      ],
      "text/plain": [
       "<Reaction pDNA_synthesis at 0x7f3a2eb41ff0>"
      ]
     },
     "execution_count": 9,
     "metadata": {},
     "output_type": "execute_result"
    }
   ],
   "source": [
    "model3.reactions.pDNA_synthesis"
   ]
  },
  {
   "cell_type": "markdown",
   "metadata": {},
   "source": [
    "## Include pDNA sink reaction"
   ]
  },
  {
   "cell_type": "code",
   "execution_count": 10,
   "metadata": {},
   "outputs": [],
   "source": [
    "with model3 as tmp:\n",
    "    tmp.add_boundary(tmp.metabolites.pDNA_c,type='sink',lb=0,ub=1000)\n",
    "    model4 = tmp.copy()"
   ]
  },
  {
   "cell_type": "code",
   "execution_count": 11,
   "metadata": {},
   "outputs": [
    {
     "data": {
      "text/html": [
       "\n",
       "        <table>\n",
       "            <tr>\n",
       "                <td><strong>Reaction identifier</strong></td><td>SK_pDNA_c</td>\n",
       "            </tr><tr>\n",
       "                <td><strong>Name</strong></td><td>Synthetic Plasmid sink</td>\n",
       "            </tr><tr>\n",
       "                <td><strong>Memory address</strong></td>\n",
       "                <td>0x7f3a2dc04730</td>\n",
       "            </tr><tr>\n",
       "                <td><strong>Stoichiometry</strong></td>\n",
       "                <td>\n",
       "                    <p style='text-align:right'>pDNA_c --></p>\n",
       "                    <p style='text-align:right'>Synthetic Plasmid --></p>\n",
       "                </td>\n",
       "            </tr><tr>\n",
       "                <td><strong>GPR</strong></td><td></td>\n",
       "            </tr><tr>\n",
       "                <td><strong>Lower bound</strong></td><td>0</td>\n",
       "            </tr><tr>\n",
       "                <td><strong>Upper bound</strong></td><td>1000</td>\n",
       "            </tr>\n",
       "        </table>\n",
       "        "
      ],
      "text/plain": [
       "<Reaction SK_pDNA_c at 0x7f3a2dc04730>"
      ]
     },
     "execution_count": 11,
     "metadata": {},
     "output_type": "execute_result"
    }
   ],
   "source": [
    "model4.sinks.SK_pDNA_c"
   ]
  },
  {
   "cell_type": "markdown",
   "metadata": {},
   "source": [
    "## Save Model"
   ]
  },
  {
   "cell_type": "code",
   "execution_count": 12,
   "metadata": {},
   "outputs": [],
   "source": [
    "model4.id = 'iML1515_pDNA'\n",
    "model4.description = 'iML1515 with pDNA synthesis and sink reactions.'\n",
    "# cobra.io.write_sbml_model(model4,'../models/iML1515_pDNA.xml')"
   ]
  }
 ],
 "metadata": {
  "kernelspec": {
   "display_name": "2206test3.10",
   "language": "python",
   "name": "2206test3.10"
  },
  "language_info": {
   "codemirror_mode": {
    "name": "ipython",
    "version": 3
   },
   "file_extension": ".py",
   "mimetype": "text/x-python",
   "name": "python",
   "nbconvert_exporter": "python",
   "pygments_lexer": "ipython3",
   "version": "3.10.4"
  },
  "toc-autonumbering": true
 },
 "nbformat": 4,
 "nbformat_minor": 4
}
